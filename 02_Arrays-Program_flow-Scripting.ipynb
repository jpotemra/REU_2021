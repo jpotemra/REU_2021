{
 "cells": [
  {
   "cell_type": "markdown",
   "metadata": {},
   "source": [
    "# Working with arrays: NumPy"
   ]
  },
  {
   "cell_type": "markdown",
   "metadata": {},
   "source": [
    "Python arrays are powerful, but they can confuse programmers familiar with other languages.  In this section an alternate method will be shown using a very powerful module called NumPy.\n",
    "\n",
    "As shown in the previous section, Python arrays are indexed lists, and you can access a list element using an integer index (or range).  For example,"
   ]
  },
  {
   "cell_type": "code",
   "execution_count": 1,
   "metadata": {},
   "outputs": [
    {
     "name": "stdout",
     "output_type": "stream",
     "text": [
      "3\n"
     ]
    }
   ],
   "source": [
    "myList=[1,2,3,4]\n",
    "print(myList[2])"
   ]
  },
  {
   "cell_type": "markdown",
   "metadata": {},
   "source": [
    "As well as simple indexing Python allows you to use a slicer notation to specify parts of the list. A slicer has the form:\n",
    "<ul>\n",
    "  <li>start:end\titems from start through end-1\n",
    "  <li>start:\t\titems from start to the end of the array\n",
    "  <li>:end\t\titems from the start to end-1\n",
    "  <li>:\t\t    items from start to end\n",
    "</ul>\n",
    "\n",
    "As a reminder, the slicer doesn't include the end element. For example myList[0:2] is just elements 0 and 1 and not element 2.  That is, start specifies the first element in the selection and end specifies the first element not in the selection. \n",
    "\n",
    "You can also use negative values for start and end and this is interpreted as counting from the end of the list.  For example myList[-2:] is [3,4] and myList[-3:-1] is [2,3].\n",
    "\n",
    "Finally you can include a step size as a third value in the slicer, i.e., [start:end:step]. For example myList[0:3:2] is [1,3].  As you can leave out specification and just use : you can write myList[::2] for example to step though the entire list taking every other element.  It is also worth noting that is a slicer doesn't specify any elements of the list, for example myList[4:2] then the result is a null list rather than an error.\n",
    "\n",
    "Slicing notation can be used to extract elements and to store elements, i.e., on the left and the right of an assignment.   For example:\n",
    "\n",
    "myList[1:3]=myList[0:2]\n",
    "\n",
    "stores elements [0] and [1] in elements [1] and [2].\n",
    "\n",
    "Slicing notation is the main way in which Python differs from other languages in its use of lists as arrays.  You can also write compact for loops using comprehensions.  A comprehension is just a for loop that generates a sequence of values that you can use to generate a list.  For example:"
   ]
  },
  {
   "cell_type": "code",
   "execution_count": 2,
   "metadata": {},
   "outputs": [
    {
     "name": "stdout",
     "output_type": "stream",
     "text": [
      "[0, 1, 2, 3, 4, 5, 6, 7, 8, 9]\n"
     ]
    }
   ],
   "source": [
    "myList=[i for i in range(10)]\n",
    "print(myList)"
   ]
  },
  {
   "cell_type": "markdown",
   "metadata": {},
   "source": [
    "You can see this as a way of writing compact loops but it is also a way of manipulating lists to create new lists.  For example"
   ]
  },
  {
   "cell_type": "code",
   "execution_count": 3,
   "metadata": {},
   "outputs": [
    {
     "name": "stdout",
     "output_type": "stream",
     "text": [
      "[1, 2]\n"
     ]
    }
   ],
   "source": [
    "newList=[myList[i] for i in range(1,3)]\n",
    "print(newList)"
   ]
  },
  {
   "cell_type": "markdown",
   "metadata": {},
   "source": [
    "Now we have revised slicing and comprehensions, it is time to take a look at some of the problems and some of the solutions.\n",
    "\n",
    "In Python a 2D array is simply a list of lists. For example, a 2x2 matrix could be represented as:\n",
    "\n",
    "    myArray=[[1,2],[3,4]]\n",
    "\n",
    "which is a list of two lists which represent the rows of the matrix.  You can use slicing and comprehensions on multi-dimensional arrays but they don't always work as you might hope.  For example, how could you extract a sub-matrix? The obvious answer is to use slicing.  Given the 3x3 array:\n",
    "\n",
    "    myArray=[[1,2,3],[4,5,6],[7,8,9]]\n",
    "\n",
    "you might imagine that you could extract the 2x2 matrix in its top right-hand corner using:\n",
    "\n",
    "    myArray[0:2][0:2]\n",
    "\n",
    "However, this doesn't work and what you get is:\n",
    "\n",
    "    [[1, 2, 3], [4, 5, 6]]\n",
    "\n",
    "If you think about it this is perfectly reasonable. The first slicer specifies the first two elements of the list, and these are the first two rows, i.e. \n",
    "\n",
    "    myArray[0:2]\n",
    "\n",
    "is \n",
    "\n",
    "    [[1, 2, 3], [4, 5, 6]]\n",
    "\n",
    "Now you can see what goes wrong with the second slicer - it isn't operating on the rows it is stil operating on the outer list. So it returns [[1, 2, 3], [4, 5, 6]] [0:2] which is just the first two rows again.  Slicing notation works perfectly and as advertised, but it is common to think that it will do more.\n",
    "\n",
    "If you want to extract the sub-matrix then the simplest way is to use a list comprehension or the equivalent for loops:\n",
    "\n",
    "    [[myArray[i][j] for j in range(2) ] for i in range(2)]\n",
    "\n",
    "that returns [[1, 2], [4, 5]].  This is a nice compact way of writing it, but it is not a lot different to a pair of nested index loops.  \n",
    "\n",
    "If you have used Matlab or Octave you might also expect Python to support matrix functions.  For example, to take the square root element-wise you might try:\n",
    "\n",
    "    math.sqrt(myArray)\n",
    "\n",
    "but this doesn't work. The majority of Python math functions accept a single scalar argument and trying to use them on an array simply generates an error.   The simplest way around this problem is to use the map function which applies the function specified as its first argument to the list specified as its second argument. \n",
    "\n",
    "    list(map(math.sqrt,myList))\n",
    "\n",
    "In Python 3 map returns an iterable which has to be converted to a list - in Python 2 map returns the list directly.  This looks neat but in practice it isn't really much use. For example suppose you want the elementwise square root of a 3x3 matrix then\n",
    "\n",
    "    list(map(math.sqrt,myArray))\n",
    "\n",
    "fails because sqrt is passed each row of the matrix in turn and it expects a scalar.  In Python 3 map has been down-graded without actually being removed and it is better to write a list comprehension. For example:\n",
    "\n",
    "    [math.sqrt(x) for x in myList]\n",
    "\n",
    "performs an elementwise square root on the one-dimensional myList.  The more than one dimensional case is on a little more complicated:\n",
    "\n",
    "    [[math.sqrt(x) for x in row] for row in myArray]\n",
    "\n",
    "or if you prefer to use an index loop (we'll see this next):\n",
    "\n",
    "    [[math.sqrt(myArray[i][j]) \n",
    "       for j in range(len(myArray)) ] \n",
    "           for i in range(len(myArray))]\n"
   ]
  },
  {
   "cell_type": "markdown",
   "metadata": {},
   "source": [
    "Arrays in Python work reasonably well but compared to Matlab or Octave there are a lot of missing features. There is an array module that provides something more suited to numerical arrays but why stop there as there is also NumPy which provides a much better array object.  Put simply if you are going to use something other than the basic Python list as an array you might as well download NumPy - which is available for Python 2 and 3. \n",
    "\n",
    "Assuming you have NumPy installed, all you need to do to use it is add: \n",
    "\n",
    "import numpy as np\n",
    "\n",
    "to the start of any program.  The main thing that NumPy brings to the environment is the NumPy array.  This is an object, complete with methods, that wraps a static array of various data types.  Notice that the NumPy array is a completely separate data type from the Python list and this means you can have two types of array-like entity within your program. The good news is that it is very easy to convert Python data types that are \"array-like\" to NumPy arrays.\n",
    "\n",
    "It is also good that NumPy arrays behave a lot like Python arrays with the two exceptions - the elements of a NumPy array are all of the same type and have a fixed and very specific data type and once created you can't change the size of a NumPy array.  A Python array is dynamic and you can append new elements and delete existing ones. A NumPy array is more like an object-oriented version of a traditional C or C++ array.\n",
    "\n",
    "You can create NumPy arrays using a large range of data types from int8, uint8, float64, bool and through to complex128. Check the documentation of what is available. There is also a range of type conversion functions available. \n",
    "\n",
    "To create a NumPy array you can use the low-level constructor ndarray. You can pass this a range of arguments to control the type of array you create but the simplest is to pass just the shape of the array. For example:"
   ]
  },
  {
   "cell_type": "code",
   "execution_count": 4,
   "metadata": {},
   "outputs": [
    {
     "name": "stdout",
     "output_type": "stream",
     "text": [
      "[[2.33605760e-310 4.64217953e-310 2.33606387e-310]\n",
      " [2.33606387e-310 2.33606387e-310 2.33607781e-310]\n",
      " [1.73316021e-260 5.08162503e-299 2.74701092e-260]]\n"
     ]
    }
   ],
   "source": [
    "import numpy as np\n",
    "myArray = np.ndarray((3,3))\n",
    "print(myArray)"
   ]
  },
  {
   "cell_type": "markdown",
   "metadata": {},
   "source": [
    "The array is created in memory and uninitialized (sort of). This means that if you try to make use of any of the elements of myArray you will find some random garbage.   A more usual way of creating an array is to use one of either np.zeros(shape) or np.ones(shape) which create an array of the shape specified initialized to zeros or ones respectively.  Similarly\n",
    "\n",
    "np.arange(start,end,increment)\n",
    "\n",
    "will create a one dimensional array initialized to values from start to end spaced by increment. There is also the linspace method that will create an array of a specified size with evenly spaced values."
   ]
  },
  {
   "cell_type": "code",
   "execution_count": 5,
   "metadata": {},
   "outputs": [
    {
     "name": "stdout",
     "output_type": "stream",
     "text": [
      "[ 5 15 25 35 45 55 65 75 85 95]\n",
      "[ 5.          6.66666667  8.33333333 10.         11.66666667 13.33333333\n",
      " 15.         16.66666667 18.33333333 20.        ]\n"
     ]
    }
   ],
   "source": [
    "import numpy as np\n",
    "\n",
    "# this will create an array starting at 5, ending at 100, incrementing by 10\n",
    "myArray = np.arange(5,100,10)\n",
    "print(myArray)\n",
    "\n",
    "# this will create an array starting at 5, ending at 20, having 10 total points\n",
    "myNewArray = np.linspace(5,20,10)\n",
    "print(myNewArray)"
   ]
  },
  {
   "cell_type": "markdown",
   "metadata": {},
   "source": [
    "There are lots of other array creation methods including random, identity and so on. \n",
    "You can also use the array method to convert a Python array object into a NumPy array. For example:"
   ]
  },
  {
   "cell_type": "code",
   "execution_count": 6,
   "metadata": {},
   "outputs": [],
   "source": [
    "import numpy as np\n",
    "myArray=np.array([[1,2,3],[4,5,6],[7,8,9]])"
   ]
  },
  {
   "cell_type": "markdown",
   "metadata": {},
   "source": [
    "Now that we can create a NumPy array it's time to find out how to use them.  You can index a NumPy array just like a Python array. So for example to find what's in the second row, third column (i.e., the number 6):\n",
    "(recall python starts counting at zero!!):"
   ]
  },
  {
   "cell_type": "code",
   "execution_count": 7,
   "metadata": {},
   "outputs": [
    {
     "name": "stdout",
     "output_type": "stream",
     "text": [
      "6\n",
      "6\n"
     ]
    }
   ],
   "source": [
    "import numpy as np\n",
    "myArray=np.array([[1,2,3],[4,5,6],[7,8,9]])\n",
    "# print 2nd row (index=1) and third column (index=2):\n",
    "print(myArray[1][2])\n",
    "# alternately like this (similar to matlab)\n",
    "print(myArray[1,2])"
   ]
  },
  {
   "cell_type": "markdown",
   "metadata": {},
   "source": [
    "You can use more complex slicing and it all works exactly as for a Python array.  For example:"
   ]
  },
  {
   "cell_type": "markdown",
   "metadata": {},
   "source": [
    "Note in the above, that the NumPy array goes well beyond what a standard Python array supports in terms of indexing.  The first big difference is that you can use a tuple as an indexing object.  The simplest case of this is to use a tuple of integers.  For example, in\n",
    "\n",
    "    myArray=np.array([[1,2,3],[4,5,6],[7,8,9]])\n",
    "\n",
    "myArray[1,2] is 6.  If myArray was a simple Python array this would generate an error and you would have to write:\n",
    "\n",
    "    myArray[1][2]\n",
    "\n",
    "Both index methods work with NumPy arrays.  Being able to use a tuple of integers is a simplification of notation but you can go one step further and use a tuple of slicers.  The rule is that each slicer operates on its corresponding dimension. That is unlike the Python array where multiple slicers operate on the result of previous slicers the NumPy array implements things are you might want them to work, i.e., slicing each dimension in turn.  For example, if you now try:\n",
    "\n",
    "    myArray[0:2,0:2]\n",
    "\n",
    "you will discover that it does return the 2x2 sub matrix in the top left hand corner of the original array, i.e.,\n",
    "\n",
    "    array([[1, 2],[4, 5]])\n",
    "\n",
    "This works with any number of dimensions and each slicer is applied to the corresponding dimension to extract a sub-matrix. You can even use a step size to extract, say, every other row and column.  All you have to remember is to specify the slicers as part of a tuple and not as individual index terms.  Notice that if you don't specify one slicer for each dimension, the missing slicers are assumed to be :, i.e., the entire dimension. For example myArray[0:2] is taken to mean myArray[0:2,:].\n",
    "\n",
    "You can also use the ellipsis object to add : slicers if you want to specify slicers from the other end of the dimensions.  For example if bigArray has five dimensions, bigArray[...,0] specifies all of the rows columns and so on but with the final dimension set to index 0, i.e., it is equivalent to bigArray[:,:,:,:,0].  Also notice that myArray[0,:] is array([1, 2, 3]), i.e., row zero all column entries as a one dimensional array, but myArray[0:1,:] is array([[1, 2, 3]]), i.e., a two dimensional array consisting of just row zero.  In general using an integer i returns an array with one less dimension than using the slicer [i:i+1] which returns the same elements. \n",
    "\n",
    "NumPy arrays have other tricks when it comes to indexing mostly borrowed from Matlab and Octave.  For example, you can set up an indexing array of integers and these will be used to select elements along the corresponding dimension.  So, for example:\n",
    "\n",
    "    myArray[[0,2],[1,2]]\n",
    "\n",
    "picks out the myArray[0,1] and myArray[2,2], i.e., array([2, 9]).  You can use this technique to access arbitrary sub matrices of elements or regular sub matrices with indexes determined by other matrices.  There are lots of rules that govern how the lists of integers are applied, i.e., what happens if you don't specify enough lists and so on but they are all obvious defaults. \n",
    "\n",
    "Boolean indexing is another indexing method borrowed from Matlab and Octave.  You can use a Boolean array to pick out the elements you want to work with.  If the Boolean array has a true element then the element in the array being indexed is selected.  Now at first thought this doesn't sound like a very useful option.  Why would you go to the trouble of constructing a Boolean array to pick elements from an array?  The answer is because it is very easy.\n",
    "\n",
    "One of the things that NumPy introduces is element-wise functions and operations including element-wise comparisons.  For example:\n",
    "\n",
    "    myArray>1\n",
    "\n",
    "produces a Boolean array:\n",
    "\n",
    "    [[False, True, True],\n",
    "    [ True, True, True],\n",
    "    [ True, True, True]]\n",
    "\n",
    "This makes is easy to index an array on a condition. For example, suppose you wanted to set every element of an array smaller than 0.1 to zero:\n",
    "\n",
    "    myArray[myArray<0.1]=0\n",
    "\n",
    "Now you can see why a Boolean index is useful!\n",
    " \n",
    "\n",
    "There are many features of NumPy that are beyond the scope of this introduction but the availability of array functions is one that you need to know about.  NumPy provides many apparent redundant copies of functions that are already provided in math or other modules.  For example, np.sqrt seems to be identical to math.sqrt but it can be applied to arrays and it will be computed on each element:\n",
    "\n",
    "    np.sqrt(myArray)\n",
    "\n",
    "gives:\n",
    "\n",
    "    array([[ 1. , 1.41421356, 1.73205081],\n",
    "    [ 2. , 2.23606798, 2.44948974],\n",
    "    [ 2.64575131, 2.82842712, 3. ]])\n",
    "\n",
    "If you want to compute an element-wise function on a NumPy array then check to see if it is provided within NumPy first - there are a lot of functions for general mathematics, bit manipulation and matrix arithmetic.  For example, to multiply two matrices together, AB just use A.dot(B)."
   ]
  },
  {
   "cell_type": "markdown",
   "metadata": {},
   "source": [
    "# Program flow\n",
    "As with many other programming and scripting languages there are different ways to step or parse through numbers, values and commands.  Here we will discuss four of these: if, while, for and try.  These all serve different purposes but can be used in very similar ways.  The syntax in python is also similar for all, namely, the code block starts with the statement followed by a colon (:).  There is no end statement, just indented code to indicate the block.\n",
    "\n",
    "The first example is an “if” statement.  Note that “if” can also have subsequent “elif” (“elseif”) or “else” statements:"
   ]
  },
  {
   "cell_type": "code",
   "execution_count": 8,
   "metadata": {},
   "outputs": [
    {
     "name": "stdout",
     "output_type": "stream",
     "text": [
      "0\n"
     ]
    }
   ],
   "source": [
    "x = 4\n",
    "y = 0\n",
    "if x > 5:\n",
    "   y = x * x\n",
    "   z = 2 * x\n",
    "   print(z)\n",
    "print(y)"
   ]
  },
  {
   "cell_type": "markdown",
   "metadata": {},
   "source": [
    "Note here that parentheses are not used in the qualifier check.  The middle two lines will only be executed if the qualifier is true (they are indented lines below the if statement).  The last line, not indented, will always execute.  “if” statements can also take “and/or”:"
   ]
  },
  {
   "cell_type": "code",
   "execution_count": 9,
   "metadata": {},
   "outputs": [
    {
     "name": "stdout",
     "output_type": "stream",
     "text": [
      "0 0\n"
     ]
    }
   ],
   "source": [
    "if x > 5 and x < 10:\n",
    "   y = x * x\n",
    "   z = 2 * y\n",
    "else:\n",
    "   y = 0\n",
    "   z = 0\n",
    "print(y,z)"
   ]
  },
  {
   "cell_type": "markdown",
   "metadata": {},
   "source": [
    "A similar function is provided using the “while” statement.  In this case, the code will run as long as the statement is true, unlike an “if” statement that will run once."
   ]
  },
  {
   "cell_type": "code",
   "execution_count": 10,
   "metadata": {},
   "outputs": [
    {
     "name": "stdout",
     "output_type": "stream",
     "text": [
      "4\n",
      "5\n",
      "6\n",
      "7\n",
      "8\n",
      "Loop done\n"
     ]
    }
   ],
   "source": [
    "i = 4\n",
    "while i < 9:\n",
    "   print(i)\n",
    "   i = i + 1\n",
    "print(\"Loop done\")"
   ]
  },
  {
   "cell_type": "markdown",
   "metadata": {},
   "source": [
    "The third bit of coding that involves a decision block is a “for loop”. These exist in almost all languages in some form or another. In python, the syntax again is with a leading line starting with “for”, ending with a “:”, and subsequent code to be executed indented. The first line includes both the index/counting variable and the constraint. This can take many different forms. One option is using a variable:"
   ]
  },
  {
   "cell_type": "code",
   "execution_count": 11,
   "metadata": {},
   "outputs": [
    {
     "name": "stdout",
     "output_type": "stream",
     "text": [
      "1\n",
      "4\n",
      "9\n",
      "25\n",
      "36\n",
      "Done for loop\n"
     ]
    }
   ],
   "source": [
    "x = [1, 4, 9, 25, 36]\n",
    "for i in x:\n",
    "   print(i)\n",
    "print(\"Done for loop\")"
   ]
  },
  {
   "cell_type": "markdown",
   "metadata": {},
   "source": [
    "Another option is to use the \"internal\" range function:"
   ]
  },
  {
   "cell_type": "code",
   "execution_count": 12,
   "metadata": {},
   "outputs": [
    {
     "name": "stdout",
     "output_type": "stream",
     "text": [
      "10\n",
      "11\n",
      "12\n",
      "13\n",
      "14\n",
      "15\n",
      "16\n",
      "17\n",
      "18\n",
      "19\n",
      "Done for loop\n"
     ]
    }
   ],
   "source": [
    "for i in range(10,20):\n",
    "   print (i)\n",
    "print(\"Done for loop\")"
   ]
  },
  {
   "cell_type": "markdown",
   "metadata": {},
   "source": [
    "# scripting\n",
    "Now we can start to put things together in a simple script.  Much like Matlab, we simply enter the python commands into a file, then run that file.  Thus far we’ve entered commands one by one into the python interpreter.  A more common way to run python commands is to include them into a file, then “run” that file.  This helps preserve code but also provides efficiencies (e.g., if you make a mistake you don’t have to go back to the start and enter all the commands again).  Typically, python scripts end with the suffix .py.  \n",
    "\n",
    "The first thing to consider when writing scripts is to properly comment the code.  In python this is done with a hash (#), and it can occur anywhere in the line (everything after, and including, the hash sign is ignored by the interpreter).  Multi-line comments can be enabled by starting with three single quotes (‘’’) and then ending the comment block with another three quotes.\n",
    "\n",
    "Here is a straightforward example script to print out 10 successive random numbers.  A random number generator is found in the package called “random”"
   ]
  },
  {
   "cell_type": "code",
   "execution_count": 13,
   "metadata": {},
   "outputs": [
    {
     "name": "stdout",
     "output_type": "stream",
     "text": [
      "0 0.33522113723871116\n",
      "1 0.7224244453753969\n",
      "2 0.8479531990267535\n",
      "3 0.5246598588300175\n",
      "4 0.7852447653865595\n",
      "5 0.8318972942577864\n",
      "6 0.9969939325567985\n",
      "7 0.708636286125749\n",
      "8 0.9279773231262797\n",
      "9 0.768734777072413\n"
     ]
    }
   ],
   "source": [
    "'''\n",
    "This is a sample script to make some random numbers\n",
    "\n",
    "JimP 04-29-2020\n",
    "'''\n",
    "\n",
    "#\n",
    "# sample python script that will stream out a set of random numbers\n",
    "# \n",
    "\n",
    "# first we import the \"random\" package, and note to access any modules in this\n",
    "#   package, we preceed the module with the package name (since we do not alias)\n",
    "import random\n",
    "\n",
    "# set the sample size to 10, i.e., we'll generate 10 random numbers\n",
    "sampleSize = 10\n",
    "\n",
    "# now we loop over our sample size (aka, sampleSize, aka 10); recall here\n",
    "#   that we'll start at 0 and go to 9, but still get ten interations\n",
    "for i in range(sampleSize):\n",
    "    newValue = random.random()\n",
    "    print (i,newValue)"
   ]
  },
  {
   "cell_type": "markdown",
   "metadata": {},
   "source": [
    "We can now expand our little script to actually read from input the number of numbers to generate, rather than fix it in the script.  For this, we'll use the function input:"
   ]
  },
  {
   "cell_type": "code",
   "execution_count": 15,
   "metadata": {},
   "outputs": [
    {
     "name": "stdin",
     "output_type": "stream",
     "text": [
      "Enter sample size:  4\n"
     ]
    },
    {
     "ename": "TypeError",
     "evalue": "'str' object cannot be interpreted as an integer",
     "output_type": "error",
     "traceback": [
      "\u001b[0;31m---------------------------------------------------------------------------\u001b[0m",
      "\u001b[0;31mTypeError\u001b[0m                                 Traceback (most recent call last)",
      "\u001b[0;32m<ipython-input-15-c4cb9e73ac40>\u001b[0m in \u001b[0;36m<module>\u001b[0;34m()\u001b[0m\n\u001b[1;32m     18\u001b[0m \u001b[0;31m# now we loop over our sample size (aka, sampleSize, aka 10); recall here\u001b[0m\u001b[0;34m\u001b[0m\u001b[0;34m\u001b[0m\u001b[0;34m\u001b[0m\u001b[0m\n\u001b[1;32m     19\u001b[0m \u001b[0;31m#   that we'll start at 0 and go to 9, but still get ten interations\u001b[0m\u001b[0;34m\u001b[0m\u001b[0;34m\u001b[0m\u001b[0;34m\u001b[0m\u001b[0m\n\u001b[0;32m---> 20\u001b[0;31m \u001b[0;32mfor\u001b[0m \u001b[0mi\u001b[0m \u001b[0;32min\u001b[0m \u001b[0mrange\u001b[0m\u001b[0;34m(\u001b[0m\u001b[0msampleSize\u001b[0m\u001b[0;34m)\u001b[0m\u001b[0;34m:\u001b[0m\u001b[0;34m\u001b[0m\u001b[0;34m\u001b[0m\u001b[0m\n\u001b[0m\u001b[1;32m     21\u001b[0m     \u001b[0mnewValue\u001b[0m \u001b[0;34m=\u001b[0m \u001b[0mrandom\u001b[0m\u001b[0;34m.\u001b[0m\u001b[0mrandom\u001b[0m\u001b[0;34m(\u001b[0m\u001b[0;34m)\u001b[0m\u001b[0;34m\u001b[0m\u001b[0;34m\u001b[0m\u001b[0m\n\u001b[1;32m     22\u001b[0m     \u001b[0mprint\u001b[0m \u001b[0;34m(\u001b[0m\u001b[0mi\u001b[0m\u001b[0;34m,\u001b[0m\u001b[0mnewValue\u001b[0m\u001b[0;34m)\u001b[0m\u001b[0;34m\u001b[0m\u001b[0;34m\u001b[0m\u001b[0m\n",
      "\u001b[0;31mTypeError\u001b[0m: 'str' object cannot be interpreted as an integer"
     ]
    }
   ],
   "source": [
    "'''\n",
    "This is a sample script to make some random numbers\n",
    "\n",
    "JimP 04-29-2020\n",
    "'''\n",
    "\n",
    "#\n",
    "# sample python script that will stream out a set of random numbers\n",
    "# \n",
    "\n",
    "# first we import the \"random\" package, and note to access any modules in this\n",
    "#   package, we preceed the module with the package name (since we do not alias)\n",
    "import random\n",
    "\n",
    "# read sample size from keyboard input\n",
    "sampleSize = input('Enter sample size: ')\n",
    "\n",
    "# now we loop over our sample size (aka, sampleSize, aka 10); recall here\n",
    "#   that we'll start at 0 and go to 9, but still get ten interations\n",
    "for i in range(sampleSize):\n",
    "    newValue = random.random()\n",
    "    print (i,newValue)"
   ]
  },
  {
   "cell_type": "markdown",
   "metadata": {},
   "source": [
    "What happened here? It turns out the standard input, as returned by \"input\" comes back as type str, a string, but we want an integer, so we have to change that:"
   ]
  },
  {
   "cell_type": "code",
   "execution_count": 16,
   "metadata": {},
   "outputs": [
    {
     "name": "stdin",
     "output_type": "stream",
     "text": [
      "Enter sample size:  5\n"
     ]
    },
    {
     "name": "stdout",
     "output_type": "stream",
     "text": [
      "0 0.48992283418371463\n",
      "1 0.5296807687706494\n",
      "2 0.8744942985294452\n",
      "3 0.2504808566046678\n",
      "4 0.2537598046133869\n"
     ]
    }
   ],
   "source": [
    "'''\n",
    "This is a sample script to make some random numbers\n",
    "\n",
    "JimP 04-29-2020\n",
    "'''\n",
    "\n",
    "#\n",
    "# sample python script that will stream out a set of random numbers\n",
    "# \n",
    "\n",
    "# first we import the \"random\" package, and note to access any modules in this\n",
    "#   package, we preceed the module with the package name (since we do not alias)\n",
    "import random\n",
    "\n",
    "# read sample size from keyboard input and then convert it to integer\n",
    "sampleSize = input('Enter sample size: ')\n",
    "sampleSize = int(sampleSize)\n",
    "\n",
    "# set the \"seed\" for our random numbers (seed being a module in random)\n",
    "random.seed()\n",
    "\n",
    "# now we loop over our sample size (aka, sampleSize, aka 10); recall here\n",
    "#   that we'll start at 0 and go to 9, but still get ten interations\n",
    "for i in range(sampleSize):\n",
    "    newValue = random.random()\n",
    "    print (i,newValue)"
   ]
  },
  {
   "cell_type": "markdown",
   "metadata": {},
   "source": [
    "Let's now make this a little more fancy by adding the time.  There is a whole slew of ways to deal with time, but here we'll stick with the package \"time\".  Dealing with time will be a constant challenge, but hopefully you'll come to see that some python packages are able to do this quite easily."
   ]
  },
  {
   "cell_type": "code",
   "execution_count": 17,
   "metadata": {},
   "outputs": [
    {
     "name": "stdin",
     "output_type": "stream",
     "text": [
      "Enter sample size:  8\n"
     ]
    },
    {
     "name": "stdout",
     "output_type": "stream",
     "text": [
      "11/06/20 02:01:52 0.3291174331028931\n",
      "11/06/20 02:01:54 0.06411914316940281\n",
      "11/06/20 02:01:56 0.5405377820695155\n",
      "11/06/20 02:01:58 0.036246466241141806\n",
      "11/06/20 02:02:00 0.5514700287966332\n",
      "11/06/20 02:02:02 0.06244538458760729\n",
      "11/06/20 02:02:04 0.6363741716819227\n",
      "11/06/20 02:02:06 0.4822831687279955\n"
     ]
    }
   ],
   "source": [
    "'''\n",
    "This is a sample script to make some random numbers\n",
    "\n",
    "JimP 04-29-2020\n",
    "'''\n",
    "\n",
    "#\n",
    "# sample python script that will stream out a set of random numbers\n",
    "# \n",
    "\n",
    "# first we import the \"random\" package, and note to access any modules in this\n",
    "#   package, we preceed the module with the package name (since we do not alias)\n",
    "#   and next we import the \"time\" package\n",
    "import random\n",
    "import time\n",
    "\n",
    "# read sample size from keyboard input and then convert it to integer\n",
    "sampleSize = input('Enter sample size: ')\n",
    "sampleSize = int(sampleSize)\n",
    "\n",
    "# set the \"seed\" for our random numbers (seed being a module in random)\n",
    "random.seed()\n",
    "\n",
    "# now we loop over our sample size; we now add the time\n",
    "for i in range(sampleSize):\n",
    "    newValue = random.random()\n",
    "    newValue = random.random()\n",
    "    date = time.strftime(\"%x\")\n",
    "    now  = time.strftime(\"%X\")\n",
    "    print(date, now, newValue)\n",
    "    time.sleep(2)"
   ]
  },
  {
   "cell_type": "code",
   "execution_count": null,
   "metadata": {},
   "outputs": [],
   "source": []
  }
 ],
 "metadata": {
  "kernelspec": {
   "display_name": "Python 3",
   "language": "python",
   "name": "python3"
  },
  "language_info": {
   "codemirror_mode": {
    "name": "ipython",
    "version": 3
   },
   "file_extension": ".py",
   "mimetype": "text/x-python",
   "name": "python",
   "nbconvert_exporter": "python",
   "pygments_lexer": "ipython3",
   "version": "3.8.3"
  }
 },
 "nbformat": 4,
 "nbformat_minor": 4
}
