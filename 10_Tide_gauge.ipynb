{
 "cells": [
  {
   "cell_type": "markdown",
   "metadata": {},
   "source": [
    "# Plotting in python: Line plots from data (Sea Level)"
   ]
  },
  {
   "cell_type": "markdown",
   "metadata": {},
   "source": [
    "By now you should be somewhat comfortable making plots with python/matplotlib.  Let's now look at more plotting options and reading in actual data, combining all that we've learned so far.\n",
    "\n",
    "In this case, we will repeat our exercises with tide gauge data (done previously with matlab).\n",
    "\n",
    "First, let's read in a tide gauge record from the UH Sea Level Center (http://uhslc.soest.hawaii.edu).  If you follow the links to data --> legacy portal, then find a record of interest.  Here we choose station 57, Honolulu.  If you right click on the link in the column \"CSV data\" and \"hourly\" (should be second set of links in the Honolulu row), then \"save link as\", you get the URL http://uhslc.soest.hawaii.edu/data/csv/fast/hourly/h057.csv.  We can read this directly with pandas."
   ]
  },
  {
   "cell_type": "code",
   "execution_count": 3,
   "metadata": {},
   "outputs": [],
   "source": [
    "import pandas as pd\n",
    "tide_hnl = pd.read_csv(\"http://uhslc.soest.hawaii.edu/data/csv/fast/hourly/h057.csv\", header=None)"
   ]
  },
  {
   "cell_type": "markdown",
   "metadata": {},
   "source": [
    "Note that these data sets have no header telling us what the column headings are, so we use \"header = None\".  We can print out top/bottom of the data:"
   ]
  },
  {
   "cell_type": "code",
   "execution_count": 4,
   "metadata": {},
   "outputs": [
    {
     "data": {
      "text/html": [
       "<div>\n",
       "<style scoped>\n",
       "    .dataframe tbody tr th:only-of-type {\n",
       "        vertical-align: middle;\n",
       "    }\n",
       "\n",
       "    .dataframe tbody tr th {\n",
       "        vertical-align: top;\n",
       "    }\n",
       "\n",
       "    .dataframe thead th {\n",
       "        text-align: right;\n",
       "    }\n",
       "</style>\n",
       "<table border=\"1\" class=\"dataframe\">\n",
       "  <thead>\n",
       "    <tr style=\"text-align: right;\">\n",
       "      <th></th>\n",
       "      <th>0</th>\n",
       "      <th>1</th>\n",
       "      <th>2</th>\n",
       "      <th>3</th>\n",
       "      <th>4</th>\n",
       "    </tr>\n",
       "  </thead>\n",
       "  <tbody>\n",
       "    <tr>\n",
       "      <th>0</th>\n",
       "      <td>1905</td>\n",
       "      <td>1</td>\n",
       "      <td>1</td>\n",
       "      <td>10</td>\n",
       "      <td>1554</td>\n",
       "    </tr>\n",
       "    <tr>\n",
       "      <th>1</th>\n",
       "      <td>1905</td>\n",
       "      <td>1</td>\n",
       "      <td>1</td>\n",
       "      <td>11</td>\n",
       "      <td>1585</td>\n",
       "    </tr>\n",
       "    <tr>\n",
       "      <th>2</th>\n",
       "      <td>1905</td>\n",
       "      <td>1</td>\n",
       "      <td>1</td>\n",
       "      <td>12</td>\n",
       "      <td>1585</td>\n",
       "    </tr>\n",
       "    <tr>\n",
       "      <th>3</th>\n",
       "      <td>1905</td>\n",
       "      <td>1</td>\n",
       "      <td>1</td>\n",
       "      <td>13</td>\n",
       "      <td>1524</td>\n",
       "    </tr>\n",
       "    <tr>\n",
       "      <th>4</th>\n",
       "      <td>1905</td>\n",
       "      <td>1</td>\n",
       "      <td>1</td>\n",
       "      <td>14</td>\n",
       "      <td>1433</td>\n",
       "    </tr>\n",
       "    <tr>\n",
       "      <th>...</th>\n",
       "      <td>...</td>\n",
       "      <td>...</td>\n",
       "      <td>...</td>\n",
       "      <td>...</td>\n",
       "      <td>...</td>\n",
       "    </tr>\n",
       "    <tr>\n",
       "      <th>1016097</th>\n",
       "      <td>2020</td>\n",
       "      <td>11</td>\n",
       "      <td>30</td>\n",
       "      <td>19</td>\n",
       "      <td>1503</td>\n",
       "    </tr>\n",
       "    <tr>\n",
       "      <th>1016098</th>\n",
       "      <td>2020</td>\n",
       "      <td>11</td>\n",
       "      <td>30</td>\n",
       "      <td>20</td>\n",
       "      <td>1424</td>\n",
       "    </tr>\n",
       "    <tr>\n",
       "      <th>1016099</th>\n",
       "      <td>2020</td>\n",
       "      <td>11</td>\n",
       "      <td>30</td>\n",
       "      <td>21</td>\n",
       "      <td>1385</td>\n",
       "    </tr>\n",
       "    <tr>\n",
       "      <th>1016100</th>\n",
       "      <td>2020</td>\n",
       "      <td>11</td>\n",
       "      <td>30</td>\n",
       "      <td>22</td>\n",
       "      <td>1391</td>\n",
       "    </tr>\n",
       "    <tr>\n",
       "      <th>1016101</th>\n",
       "      <td>2020</td>\n",
       "      <td>11</td>\n",
       "      <td>30</td>\n",
       "      <td>23</td>\n",
       "      <td>1436</td>\n",
       "    </tr>\n",
       "  </tbody>\n",
       "</table>\n",
       "<p>1016102 rows × 5 columns</p>\n",
       "</div>"
      ],
      "text/plain": [
       "            0   1   2   3     4\n",
       "0        1905   1   1  10  1554\n",
       "1        1905   1   1  11  1585\n",
       "2        1905   1   1  12  1585\n",
       "3        1905   1   1  13  1524\n",
       "4        1905   1   1  14  1433\n",
       "...       ...  ..  ..  ..   ...\n",
       "1016097  2020  11  30  19  1503\n",
       "1016098  2020  11  30  20  1424\n",
       "1016099  2020  11  30  21  1385\n",
       "1016100  2020  11  30  22  1391\n",
       "1016101  2020  11  30  23  1436\n",
       "\n",
       "[1016102 rows x 5 columns]"
      ]
     },
     "execution_count": 4,
     "metadata": {},
     "output_type": "execute_result"
    }
   ],
   "source": [
    "tide_hnl"
   ]
  },
  {
   "cell_type": "markdown",
   "metadata": {},
   "source": [
    "These are now loaded into a pandas DataFrame called \"tide_hnl\".  The column headings are simple numbers since we had no header.  Next, we pull out the column titled \"4\" as sea level (in mm). We also want the first column, or the index, to be time.  Since this is hourly data from Jan 2, 1905, we can set this quite easily."
   ]
  },
  {
   "cell_type": "code",
   "execution_count": 5,
   "metadata": {},
   "outputs": [],
   "source": [
    "sealevel_hnl = tide_hnl[4]\n",
    "date = pd.to_datetime(tide_hnl.index*3600.0, origin = '01-02-1905', unit='s')"
   ]
  },
  {
   "cell_type": "markdown",
   "metadata": {},
   "source": [
    "And now a quick plot:"
   ]
  },
  {
   "cell_type": "code",
   "execution_count": 6,
   "metadata": {},
   "outputs": [
    {
     "data": {
      "text/plain": [
       "[<matplotlib.lines.Line2D at 0x2acff38bcfd0>]"
      ]
     },
     "execution_count": 6,
     "metadata": {},
     "output_type": "execute_result"
    }
   ],
   "source": [
    "import matplotlib.pyplot as plt\n",
    "plt.plot(date,sealevel_hnl)"
   ]
  },
  {
   "cell_type": "markdown",
   "metadata": {},
   "source": [
    "Like before, we have some missing values to deal with.  In this case they are set to -32767.  We don't really need to know the exact number and can instead replace all negative values with NaN's."
   ]
  },
  {
   "cell_type": "code",
   "execution_count": 7,
   "metadata": {},
   "outputs": [],
   "source": [
    "import numpy as np\n",
    "sealevel_hnl[sealevel_hnl < 0] = np.nan"
   ]
  },
  {
   "cell_type": "markdown",
   "metadata": {},
   "source": [
    "Note here we needed to import numpy to get access to NaN's.  Now let's replot"
   ]
  },
  {
   "cell_type": "code",
   "execution_count": 8,
   "metadata": {},
   "outputs": [
    {
     "data": {
      "text/plain": [
       "[<matplotlib.lines.Line2D at 0x2acff70a5f50>]"
      ]
     },
     "execution_count": 8,
     "metadata": {},
     "output_type": "execute_result"
    },
    {
     "data": {
      "image/png": "[encoded data removed]",
      "text/plain": [
       "<Figure size 432x288 with 1 Axes>"
      ]
     },
     "metadata": {
      "needs_background": "light"
     },
     "output_type": "display_data"
    }
   ],
   "source": [
    "plt.plot(date,sealevel_hnl)"
   ]
  },
  {
   "cell_type": "markdown",
   "metadata": {},
   "source": [
    "Now we can try compute the linear trend and plot that."
   ]
  },
  {
   "cell_type": "code",
   "execution_count": 9,
   "metadata": {},
   "outputs": [
    {
     "data": {
      "text/plain": [
       "Text(1905-01-01, 750, 'trend = 1.53 cm/decade')"
      ]
     },
     "execution_count": 9,
     "metadata": {},
     "output_type": "execute_result"
    },
    {
     "data": {
      "image/png": "[encoded data removed]",
      "text/plain": [
       "<Figure size 432x288 with 1 Axes>"
      ]
     },
     "metadata": {
      "needs_background": "light"
     },
     "output_type": "display_data"
    }
   ],
   "source": [
    "import datetime as dt\n",
    "t = tide_hnl.index.to_numpy()\n",
    "anom_sealevel_hnl = sealevel_hnl - np.nanmean(np.where(tide_hnl[4]>=0,tide_hnl[4],np.nan))\n",
    "anom_sealevel_hnl.fillna(0,inplace=True)\n",
    "\n",
    "B = np.polyfit(t,anom_sealevel_hnl,1)\n",
    "# convert trend in mm/hour to cm/decade\n",
    "trend = B[0] / 10.0 * 24.0 * 365.25 * 10.0\n",
    "# cheap way to round to two digits\n",
    "trend = int(trend*100.0)/100.0\n",
    "Y = np.polyval(B,t)\n",
    "plt.plot(date,anom_sealevel_hnl)\n",
    "plt.plot(date,Y,'r')\n",
    "\n",
    "plt.xlabel('Date')\n",
    "plt.ylabel('Sea level anomaly (mm)')\n",
    "plt.title(\"Tide gauge measurements at Honolulu\")\n",
    "plt.grid()\n",
    "plt.text(dt.date(1905, 1, 1), 750, \"trend = \" + str(trend) + ' cm/decade')"
   ]
  },
  {
   "cell_type": "markdown",
   "metadata": {},
   "source": [
    "As our second example, let’s try download data from a couple Pacific tide gauges to look at tsunami propagation.  The largest earthquake (magnitude 9.5) of the 20th century occurred on May 22, 1960 off the coast of South Central Chile. It generated one of the most destructive tsunamis in the Pacific. Near the generating area, both the earthquake and tsunami were extremely destructive, particularly in the area from Concepcion to Isla Chiloe. Huge tsunami waves measuring as high as 25 m arrived within 10 to 15 minutes after the earthquake, killing at least 200 people. It then took the tsunami about 15 hours to travel the 10,000 miles to Hawaii. \n",
    "\n",
    "Let's see how long it took to get to Midway (about 2130 kilometers). Since it's a fast-moving wave (relatively), we'll need hourly data. The data are available from the UH Sea Level Center (UHSLC).  We've already looked at Honolulu (station number 057), and the Midway gauge is station 050.\n",
    "\n",
    "We will read in both data sets and search for the dates of the tsunami, roughly May 22nd to the 27th."
   ]
  },
  {
   "cell_type": "code",
   "execution_count": 10,
   "metadata": {},
   "outputs": [],
   "source": [
    "import pandas as pd\n",
    "import matplotlib.pyplot as plt\n",
    "import numpy as np\n",
    "import datetime as dt\n",
    "\n",
    "# read Honolulu data\n",
    "tide_hnl = pd.read_csv(\"http://uhslc.soest.hawaii.edu/data/csv/fast/hourly/h057.csv\", header=None)\n",
    "anom_sealevel_hnl = tide_hnl[4] - np.nanmean(np.where(tide_hnl[4]>=0,tide_hnl[4],np.nan))\n",
    "anom_sealevel_hnl.fillna(0,inplace=True)\n",
    "date_hnl = pd.to_datetime(tide_hnl.index*3600.0, origin = '01-02-1905', unit='s')\n",
    "\n",
    "# read Midway data\n",
    "tide_mdw = pd.read_csv(\"http://uhslc.soest.hawaii.edu/data/csv/fast/hourly/h050.csv\", header=None)\n",
    "anom_sealevel_mdw = tide_mdw[4] - np.nanmean(np.where(tide_mdw[4]>=0,tide_mdw[4],np.nan))\n",
    "anom_sealevel_mdw.fillna(0,inplace=True)\n",
    "date_mdw = pd.to_datetime(tide_mdw.index*3600.0, origin = '02-09-1947', unit='s')"
   ]
  },
  {
   "cell_type": "code",
   "execution_count": 11,
   "metadata": {},
   "outputs": [
    {
     "data": {
      "text/plain": [
       "<matplotlib.legend.Legend at 0x2acff723d3d0>"
      ]
     },
     "execution_count": 11,
     "metadata": {},
     "output_type": "execute_result"
    },
    {
     "data": {
      "image/png": "[encoded data removed]",
      "text/plain": [
       "<Figure size 432x288 with 1 Axes>"
      ]
     },
     "metadata": {
      "needs_background": "light"
     },
     "output_type": "display_data"
    }
   ],
   "source": [
    "# make plot over concurrent time\n",
    "plt.plot(date_hnl,anom_sealevel_hnl,'go-',label='Honolulu')\n",
    "plt.plot(date_mdw,anom_sealevel_mdw,'bs-',label='Midway')\n",
    "plt.xlim([dt.datetime(1960, 5, 22), dt.datetime(1960, 5, 27)])\n",
    "plt.ylim(-1000,1000)\n",
    "plt.grid()\n",
    "plt.legend()"
   ]
  },
  {
   "cell_type": "code",
   "execution_count": null,
   "metadata": {},
   "outputs": [],
   "source": []
  }
 ],
 "metadata": {
  "kernelspec": {
   "display_name": "OCN_463",
   "language": "python",
   "name": "ocn_463"
  },
  "language_info": {
   "codemirror_mode": {
    "name": "ipython",
    "version": 3
   },
   "file_extension": ".py",
   "mimetype": "text/x-python",
   "name": "python",
   "nbconvert_exporter": "python",
   "pygments_lexer": "ipython3",
   "version": "3.7.9"
  }
 },
 "nbformat": 4,
 "nbformat_minor": 4
}
