{
 "cells": [
  {
   "cell_type": "markdown",
   "metadata": {},
   "source": [
    "# python"
   ]
  },
  {
   "cell_type": "markdown",
   "metadata": {},
   "source": [
    "## Introduction, background, basics\n",
    "Python is an interpretive language (unlike, for example, Fortran that is a compiled language).  Scripts or code can be written in a text editor and then run via python, or commands can be entered interactively via the command line.  There are different versions of python, specifically python-2.7 and python-3 that present some important changes.  In addition, there are development (e.g., idle), interactive (e.g., ipython, jupyter) and GUI based (e.g., spyder) tools that can be used.\n",
    "\n",
    "In this section we will just cover some basics needed to work with data and make some straightforward plots.  One of the most important things to understand in python is that indentation is extremely important.  Most compiled languages make use of code blocks contained between beginning and ending statements, for example, “if” and “endif”, “subroutine” and “return”, “do” and “continue”, and so on.  In python, blocks are delineated by indenting the code within that block (same column).  For example, an “if” statement is not ended by an “endif” but rather by the line of code that lines up in the same column as the “if” statement itself.  We will go through several examples.\n",
    "\n",
    "Another thing to keep in mind is since python is an interpretive language, function definitions have to come first in a script, before they are called, otherwise an undefined error will occur.  Compiled programs, on the other hand, can have subroutines defined at the beginning or end of a program.\n",
    "\n",
    "Finally, while python has several “built-in” features or commands, to keep it lightweight almost all of the functions are kept externally.  These are brought into a script when needed.  For example, the package (library) NumPy (numpy) contains many useful functions.  These are not loaded in by default, instead they need to be loaded (imported) explicitly."
   ]
  },
  {
   "cell_type": "markdown",
   "metadata": {},
   "source": [
    "### Interactive commands\n",
    "We will first start with an interactive python-3 session by entering “python3” at the terminal command prompt.  Note that python3 will need to be in your path for this to work (see Section x.x).  The terminal should respond with the display prompt “>>>” at which you can enter commands.  Here in jupyter notebook we won't see that however."
   ]
  },
  {
   "cell_type": "markdown",
   "metadata": {},
   "source": [
    "Like other languages, python allows for a certain amount of interactive algebra, e.g., "
   ]
  },
  {
   "cell_type": "code",
   "execution_count": 2,
   "metadata": {},
   "outputs": [
    {
     "data": {
      "text/plain": [
       "143"
      ]
     },
     "execution_count": 2,
     "metadata": {},
     "output_type": "execute_result"
    }
   ],
   "source": [
    "3 + 10 *14"
   ]
  },
  {
   "cell_type": "markdown",
   "metadata": {},
   "source": [
    "The standard symbols +, -, * and /, along with ** (to the power) may all be used.  Note that the symbol ‘^’, which is used to raise numbers to an exponent in other languages, does a “bit-wise exclusive OR” operation."
   ]
  },
  {
   "cell_type": "code",
   "execution_count": 2,
   "metadata": {},
   "outputs": [
    {
     "data": {
      "text/plain": [
       "12"
      ]
     },
     "execution_count": 2,
     "metadata": {},
     "output_type": "execute_result"
    }
   ],
   "source": [
    "3 * 4"
   ]
  },
  {
   "cell_type": "code",
   "execution_count": 3,
   "metadata": {},
   "outputs": [
    {
     "data": {
      "text/plain": [
       "9"
      ]
     },
     "execution_count": 3,
     "metadata": {},
     "output_type": "execute_result"
    }
   ],
   "source": [
    "3**2"
   ]
  },
  {
   "cell_type": "markdown",
   "metadata": {},
   "source": [
    "Next, we will assign values to variables.  Here it is worthwhile to note that python has four primitive variable types: integers, floats, strings and booleans.  Unlike other programming languages, these do not need to be declared a-priori (e.g., in FORTRAN you'd specify a variable as \"int\" to later associate it with an integer value).  Note that boolean variables can be \"True\" or \"False\", and this corresponds with 1 and 0, respectively.  For example:"
   ]
  },
  {
   "cell_type": "code",
   "execution_count": 4,
   "metadata": {},
   "outputs": [],
   "source": [
    "A = \"help\"\n",
    "B = 5\n",
    "C = 5.0\n",
    "D = True"
   ]
  },
  {
   "cell_type": "markdown",
   "metadata": {},
   "source": [
    "This sets A to a string, B to an integer, C to a float and D to a boolean.  Arithmetic operations tend to preserve these classes, e.g., a float plus a float would return a float.  Mixed cases are allowed between integers and floats, but not between the other classes.  For example,"
   ]
  },
  {
   "cell_type": "code",
   "execution_count": 5,
   "metadata": {},
   "outputs": [
    {
     "name": "stdout",
     "output_type": "stream",
     "text": [
      "help me\n"
     ]
    }
   ],
   "source": [
    "A = \"help\"\n",
    "B = \" me\"\n",
    "C = A + B\n",
    "print(C)"
   ]
  },
  {
   "cell_type": "markdown",
   "metadata": {},
   "source": [
    "This, however, does not work:"
   ]
  },
  {
   "cell_type": "code",
   "execution_count": 6,
   "metadata": {},
   "outputs": [
    {
     "ename": "TypeError",
     "evalue": "can only concatenate str (not \"int\") to str",
     "output_type": "error",
     "traceback": [
      "\u001b[0;31m---------------------------------------------------------------------------\u001b[0m",
      "\u001b[0;31mTypeError\u001b[0m                                 Traceback (most recent call last)",
      "\u001b[0;32m<ipython-input-6-450fdf92d14b>\u001b[0m in \u001b[0;36m<module>\u001b[0;34m()\u001b[0m\n\u001b[1;32m      1\u001b[0m \u001b[0mA\u001b[0m \u001b[0;34m=\u001b[0m \u001b[0;34m\"help\"\u001b[0m\u001b[0;34m\u001b[0m\u001b[0;34m\u001b[0m\u001b[0m\n\u001b[1;32m      2\u001b[0m \u001b[0mB\u001b[0m \u001b[0;34m=\u001b[0m \u001b[0;36m4\u001b[0m\u001b[0;34m\u001b[0m\u001b[0;34m\u001b[0m\u001b[0m\n\u001b[0;32m----> 3\u001b[0;31m \u001b[0mC\u001b[0m \u001b[0;34m=\u001b[0m \u001b[0mA\u001b[0m \u001b[0;34m+\u001b[0m \u001b[0mB\u001b[0m\u001b[0;34m\u001b[0m\u001b[0;34m\u001b[0m\u001b[0m\n\u001b[0m\u001b[1;32m      4\u001b[0m \u001b[0mprint\u001b[0m\u001b[0;34m(\u001b[0m\u001b[0mC\u001b[0m\u001b[0;34m)\u001b[0m\u001b[0;34m\u001b[0m\u001b[0;34m\u001b[0m\u001b[0m\n",
      "\u001b[0;31mTypeError\u001b[0m: can only concatenate str (not \"int\") to str"
     ]
    }
   ],
   "source": [
    "A = \"help\"\n",
    "B = 4\n",
    "C = A + B\n",
    "print(C)"
   ]
  },
  {
   "cell_type": "markdown",
   "metadata": {},
   "source": [
    "You'll get a \"TypeError\" since A is class string and B is class integer.  As a final note, python allows multiple assignments in a single line.  This can be done either with comma or semi-colon:"
   ]
  },
  {
   "cell_type": "code",
   "execution_count": 7,
   "metadata": {},
   "outputs": [
    {
     "name": "stdout",
     "output_type": "stream",
     "text": [
      "2 4 8\n",
      "2 4 8\n"
     ]
    }
   ],
   "source": [
    "A, B, C = 2, 4, 8\n",
    "print(A,B,C)\n",
    "\n",
    "A = 2; B = 4; C = 8\n",
    "print(A,B,C)"
   ]
  },
  {
   "cell_type": "markdown",
   "metadata": {},
   "source": [
    "## Internal modules\n",
    "At this point you've probably noticed that python, when run interactively, will display variable values if you enter the variable name by itself, e.g., "
   ]
  },
  {
   "cell_type": "code",
   "execution_count": 8,
   "metadata": {},
   "outputs": [
    {
     "data": {
      "text/plain": [
       "'help'"
      ]
     },
     "execution_count": 8,
     "metadata": {},
     "output_type": "execute_result"
    }
   ],
   "source": [
    "A = \"help\"\n",
    "B = \" me\"\n",
    "A"
   ]
  },
  {
   "cell_type": "markdown",
   "metadata": {},
   "source": [
    "However, there are certain intrinsic functions built-in to python, the print statement above being one example.  At this point it might be worth a bit of background.\n",
    "\n",
    "In python, all variables/constants/functions are objects with a type and associated attributes (features) and methods (also called functions).  Attributes (features) are aspects of the specific object.  For example, “make”, “model”, “year” might be attributes of the object “car”.  Methods (functions) are actions that objects can perform.  Following our example, methods of the object “car” might be “start”, “stop”, “accelerate”, etc.\n",
    "\n",
    "As mentioned, python has a limited number of built-in functions, print being one.  The complete list (for python3) is:\n",
    "\n",
    "|   .  | .    |   .  |  .   |  .   |\n",
    "| --- | --- | --- | --- | --- |\n",
    "|abs()   \t   |delattr()   |hash()  \t  |memoryview() |set()         |\n",
    "|all()         |dict()  \t|help()  \t  |min()   \t    |setattr()     |\n",
    "|any()         |dir()   \t|hex()   \t  |next()  \t    |slice()       |\n",
    "|ascii()       |divmod()    |id()    \t  |object()     |sorted()      |\n",
    "|bin()         |enumerate() |input()      |oct()        |staticmethod()|\n",
    "|bool()  \t   |eval()  \t|int()   \t  |open()  \t    |str()         |\n",
    "|breakpoint()  |exec()  \t|isinstance() |ord()   \t    |sum()         |\n",
    "|byte()        |filter()    |issubclass() |pow()   \t    |super()       |\n",
    "|bytes()       |float()     |iter()  \t  |print()      |tuple()       |\n",
    "|callable()    |format()    |len()   \t  |property()   |type()        |\n",
    "|chr()   \t   |frozenset() |list()  \t  |range()      |vars()        |\n",
    "|classmethod() |getattr()   |locals()     |repr()  \t    |zip()         |\n",
    "|compile()     |globals()   |map()   \t  |reversed()   |__import__()  |\n",
    "|complex()     |hasattr()   |max()  \t  |round()    \t|              |\n",
    "\n",
    "Some of these functions are self-explanatory, e.g., abs() returns the absolute value of a variable.  Note there is a help function as well.  These all work the same in the sense of function and argument in parentheses, e.g., print(A) where print is the function and A is the argument. \n",
    "\n",
    "Another useful built-in function is “type” that returns the variable class:"
   ]
  },
  {
   "cell_type": "code",
   "execution_count": 9,
   "metadata": {},
   "outputs": [
    {
     "data": {
      "text/plain": [
       "(bool, float, int, str)"
      ]
     },
     "execution_count": 9,
     "metadata": {},
     "output_type": "execute_result"
    }
   ],
   "source": [
    "A = True\n",
    "B = 1.0\n",
    "C = 1\n",
    "D = \"hello\"\n",
    "type(A), type(B), type(C), type(D)"
   ]
  },
  {
   "cell_type": "markdown",
   "metadata": {},
   "source": [
    "There are also internal functions to change the variable’s class, e.g., int() can be used to change a variable to an integer.  Note that classes can be set “dynamically” in the sense that operating between two integers would yield an integer (except non-integer division), operating between integers and floats yields floats, and so on:"
   ]
  },
  {
   "cell_type": "code",
   "execution_count": 10,
   "metadata": {},
   "outputs": [
    {
     "data": {
      "text/plain": [
       "(int, float)"
      ]
     },
     "execution_count": 10,
     "metadata": {},
     "output_type": "execute_result"
    }
   ],
   "source": [
    "A = 5\n",
    "B = 2\n",
    "C = A * B\n",
    "D = A / B\n",
    "type(C), type(D)"
   ]
  },
  {
   "cell_type": "markdown",
   "metadata": {},
   "source": [
    "Methods within objects are accessed a little differently, specifically by using the dot (.), as a separator.  For example, the object “plot” might have a method called “line”, and this would be accessed as plot.line() or plot.line(form=dashed).  The <TAB> key after any object will list all the available attributes and methods.  Similarly, dir(object) will list them (dir in the table above).  As a quick example, we define a variable X to be the integer 5.  Remember that all variables are objects, so we can list the attributes of X using X<TAB> or dir(X).  This gives things like “append”, “count”, “extent”, etc.  Note that it will return different methods depending on the variable’s class.  For example:"
   ]
  },
  {
   "cell_type": "code",
   "execution_count": 11,
   "metadata": {},
   "outputs": [
    {
     "data": {
      "text/plain": [
       "['__abs__',\n",
       " '__add__',\n",
       " '__and__',\n",
       " '__bool__',\n",
       " '__ceil__',\n",
       " '__class__',\n",
       " '__delattr__',\n",
       " '__dir__',\n",
       " '__divmod__',\n",
       " '__doc__',\n",
       " '__eq__',\n",
       " '__float__',\n",
       " '__floor__',\n",
       " '__floordiv__',\n",
       " '__format__',\n",
       " '__ge__',\n",
       " '__getattribute__',\n",
       " '__getnewargs__',\n",
       " '__gt__',\n",
       " '__hash__',\n",
       " '__index__',\n",
       " '__init__',\n",
       " '__init_subclass__',\n",
       " '__int__',\n",
       " '__invert__',\n",
       " '__le__',\n",
       " '__lshift__',\n",
       " '__lt__',\n",
       " '__mod__',\n",
       " '__mul__',\n",
       " '__ne__',\n",
       " '__neg__',\n",
       " '__new__',\n",
       " '__or__',\n",
       " '__pos__',\n",
       " '__pow__',\n",
       " '__radd__',\n",
       " '__rand__',\n",
       " '__rdivmod__',\n",
       " '__reduce__',\n",
       " '__reduce_ex__',\n",
       " '__repr__',\n",
       " '__rfloordiv__',\n",
       " '__rlshift__',\n",
       " '__rmod__',\n",
       " '__rmul__',\n",
       " '__ror__',\n",
       " '__round__',\n",
       " '__rpow__',\n",
       " '__rrshift__',\n",
       " '__rshift__',\n",
       " '__rsub__',\n",
       " '__rtruediv__',\n",
       " '__rxor__',\n",
       " '__setattr__',\n",
       " '__sizeof__',\n",
       " '__str__',\n",
       " '__sub__',\n",
       " '__subclasshook__',\n",
       " '__truediv__',\n",
       " '__trunc__',\n",
       " '__xor__',\n",
       " 'bit_length',\n",
       " 'conjugate',\n",
       " 'denominator',\n",
       " 'from_bytes',\n",
       " 'imag',\n",
       " 'numerator',\n",
       " 'real',\n",
       " 'to_bytes']"
      ]
     },
     "execution_count": 11,
     "metadata": {},
     "output_type": "execute_result"
    }
   ],
   "source": [
    "X = 5\n",
    "dir(X)"
   ]
  },
  {
   "cell_type": "markdown",
   "metadata": {},
   "source": [
    "This shows that there are several built-in functions that can be used on variable of type integer (X).  Compare this to the following:"
   ]
  },
  {
   "cell_type": "code",
   "execution_count": 12,
   "metadata": {},
   "outputs": [
    {
     "data": {
      "text/plain": [
       "['__abs__',\n",
       " '__add__',\n",
       " '__bool__',\n",
       " '__class__',\n",
       " '__delattr__',\n",
       " '__dir__',\n",
       " '__divmod__',\n",
       " '__doc__',\n",
       " '__eq__',\n",
       " '__float__',\n",
       " '__floordiv__',\n",
       " '__format__',\n",
       " '__ge__',\n",
       " '__getattribute__',\n",
       " '__getformat__',\n",
       " '__getnewargs__',\n",
       " '__gt__',\n",
       " '__hash__',\n",
       " '__init__',\n",
       " '__init_subclass__',\n",
       " '__int__',\n",
       " '__le__',\n",
       " '__lt__',\n",
       " '__mod__',\n",
       " '__mul__',\n",
       " '__ne__',\n",
       " '__neg__',\n",
       " '__new__',\n",
       " '__pos__',\n",
       " '__pow__',\n",
       " '__radd__',\n",
       " '__rdivmod__',\n",
       " '__reduce__',\n",
       " '__reduce_ex__',\n",
       " '__repr__',\n",
       " '__rfloordiv__',\n",
       " '__rmod__',\n",
       " '__rmul__',\n",
       " '__round__',\n",
       " '__rpow__',\n",
       " '__rsub__',\n",
       " '__rtruediv__',\n",
       " '__set_format__',\n",
       " '__setattr__',\n",
       " '__sizeof__',\n",
       " '__str__',\n",
       " '__sub__',\n",
       " '__subclasshook__',\n",
       " '__truediv__',\n",
       " '__trunc__',\n",
       " 'as_integer_ratio',\n",
       " 'conjugate',\n",
       " 'fromhex',\n",
       " 'hex',\n",
       " 'imag',\n",
       " 'is_integer',\n",
       " 'real']"
      ]
     },
     "execution_count": 12,
     "metadata": {},
     "output_type": "execute_result"
    }
   ],
   "source": [
    "X = 5.5\n",
    "dir(X)"
   ]
  },
  {
   "cell_type": "markdown",
   "metadata": {},
   "source": [
    "As mentioned, methods are accessed by appending the object (variable in this example) with the method name.  Here are some examples:"
   ]
  },
  {
   "cell_type": "code",
   "execution_count": 13,
   "metadata": {},
   "outputs": [
    {
     "name": "stdout",
     "output_type": "stream",
     "text": [
      "This is a string right here\n",
      "<built-in method hex of float object at 0x2b9043f083f0>\n",
      "I will go to the store at 3:00\n"
     ]
    }
   ],
   "source": [
    "# string example, __add__ method\n",
    "A = \"This is a string\"\n",
    "B = A.__add__(\" right here\")\n",
    "print(B)\n",
    "\n",
    "# float example, hex method\n",
    "A = 500.0\n",
    "B = A.hex\n",
    "print(B)\n",
    "\n",
    "# “fill in the blank” syntax using brackets ({}’s) and the format function with strings:\n",
    "A = \"I will go to {} at {}\"\n",
    "B = A.format(\"the store\", \"3:00\")\n",
    "print(B)"
   ]
  },
  {
   "cell_type": "markdown",
   "metadata": {},
   "source": [
    "At this point we’ve discussed variables and basic functions in python.  In addition, python makes use of three different variable structures: lists, tuples and dictionaries.  The most straightforward is a “list”.  A list can be assigned to a variable with the use of square brackets ([]).  You can think of a list like an array (row, column, table, etc.) of values.  For example,"
   ]
  },
  {
   "cell_type": "code",
   "execution_count": 14,
   "metadata": {},
   "outputs": [
    {
     "data": {
      "text/plain": [
       "list"
      ]
     },
     "execution_count": 14,
     "metadata": {},
     "output_type": "execute_result"
    }
   ],
   "source": [
    "A = [1, 5, 10, -1, 8]\n",
    "type(A)"
   ]
  },
  {
   "cell_type": "markdown",
   "metadata": {},
   "source": [
    "Tuples are like lists, but they are “immutable”, i.e., you can’t easily change them.  They are defined with parentheses, so the difference is very subtle:"
   ]
  },
  {
   "cell_type": "code",
   "execution_count": 15,
   "metadata": {},
   "outputs": [
    {
     "data": {
      "text/plain": [
       "tuple"
      ]
     },
     "execution_count": 15,
     "metadata": {},
     "output_type": "execute_result"
    }
   ],
   "source": [
    "A = (1, 4, 10, 11)\n",
    "type(A)"
   ]
  },
  {
   "cell_type": "markdown",
   "metadata": {},
   "source": [
    "Before getting into the details of lists (we will, don't worry), you access elements in a list with an index number, much like we did in Matlab.  Note the extremely important difference between ()'s and []'s.  Also note! python starts indexing with 0, not 1 like the rest of the computing world.  You'll either come to love this, or it will become a huge annoyance (e.g., the first value in a list has index 0, the second has an index of 1, and so on)"
   ]
  },
  {
   "cell_type": "code",
   "execution_count": 16,
   "metadata": {},
   "outputs": [
    {
     "name": "stdout",
     "output_type": "stream",
     "text": [
      "10\n",
      "[1, 5, 20, -1, 8]\n"
     ]
    }
   ],
   "source": [
    "A = [ 1, 5, 10, -1, 8]\n",
    "print(A[2])\n",
    "# replace 3rd value, 10, with a 20:\n",
    "A[2] = 20\n",
    "print(A)"
   ]
  },
  {
   "cell_type": "markdown",
   "metadata": {},
   "source": [
    "We can also use this example to see the difference between a list (above, []'s) and a tuple (below, ()'s)"
   ]
  },
  {
   "cell_type": "code",
   "execution_count": 17,
   "metadata": {},
   "outputs": [
    {
     "name": "stdout",
     "output_type": "stream",
     "text": [
      "10\n"
     ]
    },
    {
     "ename": "TypeError",
     "evalue": "'tuple' object does not support item assignment",
     "output_type": "error",
     "traceback": [
      "\u001b[0;31m---------------------------------------------------------------------------\u001b[0m",
      "\u001b[0;31mTypeError\u001b[0m                                 Traceback (most recent call last)",
      "\u001b[0;32m<ipython-input-17-b41b8dc77efe>\u001b[0m in \u001b[0;36m<module>\u001b[0;34m()\u001b[0m\n\u001b[1;32m      2\u001b[0m \u001b[0mprint\u001b[0m\u001b[0;34m(\u001b[0m\u001b[0mA\u001b[0m\u001b[0;34m[\u001b[0m\u001b[0;36m2\u001b[0m\u001b[0;34m]\u001b[0m\u001b[0;34m)\u001b[0m\u001b[0;34m\u001b[0m\u001b[0;34m\u001b[0m\u001b[0m\n\u001b[1;32m      3\u001b[0m \u001b[0;31m# replace 3rd value, 10, with a 20:\u001b[0m\u001b[0;34m\u001b[0m\u001b[0;34m\u001b[0m\u001b[0;34m\u001b[0m\u001b[0m\n\u001b[0;32m----> 4\u001b[0;31m \u001b[0mA\u001b[0m\u001b[0;34m[\u001b[0m\u001b[0;36m2\u001b[0m\u001b[0;34m]\u001b[0m \u001b[0;34m=\u001b[0m \u001b[0;36m20\u001b[0m\u001b[0;34m\u001b[0m\u001b[0;34m\u001b[0m\u001b[0m\n\u001b[0m\u001b[1;32m      5\u001b[0m \u001b[0mprint\u001b[0m\u001b[0;34m(\u001b[0m\u001b[0mA\u001b[0m\u001b[0;34m)\u001b[0m\u001b[0;34m\u001b[0m\u001b[0;34m\u001b[0m\u001b[0m\n",
      "\u001b[0;31mTypeError\u001b[0m: 'tuple' object does not support item assignment"
     ]
    }
   ],
   "source": [
    "A = ( 1, 5, 10, -1, 8 )\n",
    "print(A[2])\n",
    "# replace 3rd value, 10, with a 20:\n",
    "A[2] = 20\n",
    "print(A)"
   ]
  },
  {
   "cell_type": "markdown",
   "metadata": {},
   "source": [
    "Finally, python has something called a dictionary data structure.  These are like lists, but they contain key:value pairs.  We will talk about these much later.  One final useful function is “len” that shows how many elements are in a list or tuple:"
   ]
  },
  {
   "cell_type": "code",
   "execution_count": 18,
   "metadata": {},
   "outputs": [
    {
     "data": {
      "text/plain": [
       "4"
      ]
     },
     "execution_count": 18,
     "metadata": {},
     "output_type": "execute_result"
    }
   ],
   "source": [
    "A = [1, 4, 10, 11]\n",
    "len(A)"
   ]
  },
  {
   "cell_type": "markdown",
   "metadata": {},
   "source": [
    "Individual elements in lists are addressed by an index number in []’s, so A[x] will return the xth element in list A.  As noted, and note again here that in python, the list elements are counted from 0, so the first number in a list is referenced as the 0th.  A range in a list is obtained using a colon, A[start:end].  Again, to make it a little more confusing, the elements are referenced up to but not including the last, so while A[2:6] seems to reference elements 2 through six in list A, it really means the 3rd (since it starts counting at zero) to the 5th (since it doesn’t include the last one).  An optional “increment” can also be included, A[start:end:increment].  Finally, defaults are the first and last elements in a list, and are obtained if no number is given, e.g., A[::2] means start at 0, go to the end, increment by two.  Negative numbers can be used to go in the opposite “direction”.  Here are some examples:"
   ]
  },
  {
   "cell_type": "code",
   "execution_count": 19,
   "metadata": {},
   "outputs": [
    {
     "name": "stdout",
     "output_type": "stream",
     "text": [
      "11\n",
      "40\n",
      "[50, 60, 70, 80, 90]\n",
      "[30, 50]\n",
      "[10, 40, 70, 100]\n",
      "[70, 60, 50, 40]\n",
      "110\n",
      "[110, 100, 90, 80, 70, 60, 50, 40, 30, 20, 10]\n"
     ]
    }
   ],
   "source": [
    "A = [10, 20, 30, 40, 50, 60, 70, 80, 90, 100, 110]\n",
    "print(len(A))\n",
    "print(A[3])\n",
    "print(A[4:9])\n",
    "print(A[2:6:2])\n",
    "print(A[::3])\n",
    "print(A[6:2:-1])\n",
    "print(A[-1])\n",
    "print(A[::-1])"
   ]
  },
  {
   "cell_type": "markdown",
   "metadata": {},
   "source": [
    "Like with variables, there are certain functions available with lists, tuples and dictionaries.  For example,"
   ]
  },
  {
   "cell_type": "code",
   "execution_count": 20,
   "metadata": {},
   "outputs": [
    {
     "data": {
      "text/plain": [
       "['__add__',\n",
       " '__class__',\n",
       " '__contains__',\n",
       " '__delattr__',\n",
       " '__delitem__',\n",
       " '__dir__',\n",
       " '__doc__',\n",
       " '__eq__',\n",
       " '__format__',\n",
       " '__ge__',\n",
       " '__getattribute__',\n",
       " '__getitem__',\n",
       " '__gt__',\n",
       " '__hash__',\n",
       " '__iadd__',\n",
       " '__imul__',\n",
       " '__init__',\n",
       " '__init_subclass__',\n",
       " '__iter__',\n",
       " '__le__',\n",
       " '__len__',\n",
       " '__lt__',\n",
       " '__mul__',\n",
       " '__ne__',\n",
       " '__new__',\n",
       " '__reduce__',\n",
       " '__reduce_ex__',\n",
       " '__repr__',\n",
       " '__reversed__',\n",
       " '__rmul__',\n",
       " '__setattr__',\n",
       " '__setitem__',\n",
       " '__sizeof__',\n",
       " '__str__',\n",
       " '__subclasshook__',\n",
       " 'append',\n",
       " 'clear',\n",
       " 'copy',\n",
       " 'count',\n",
       " 'extend',\n",
       " 'index',\n",
       " 'insert',\n",
       " 'pop',\n",
       " 'remove',\n",
       " 'reverse',\n",
       " 'sort']"
      ]
     },
     "execution_count": 20,
     "metadata": {},
     "output_type": "execute_result"
    }
   ],
   "source": [
    "A = [10, 20, 30, 40, 50, 60, 70, 80, 90, 100, 110]\n",
    "dir(A)"
   ]
  },
  {
   "cell_type": "markdown",
   "metadata": {},
   "source": [
    "Here you can see certain useful things that, hopefully, are self-explanatory (e.g., sort, reverse, etc.).  As a final example, we will combine the “split” method (for strings) and the len() built-in function.\n",
    "\n",
    "First, we define a string (students) that has names in it.  Note, this is not a list, tuple or other kind of array; it's a simple variable of type \"str\".  Next, we use the \"split\" method for strings to separate items using a comma as the specifier (comma denotes split place).  We then make this a list by using the ()'s.  In other words, we start with a single variable (students) and end with a list of names."
   ]
  },
  {
   "cell_type": "code",
   "execution_count": 21,
   "metadata": {},
   "outputs": [
    {
     "name": "stdout",
     "output_type": "stream",
     "text": [
      "<class 'str'>\n",
      "42\n",
      "<class 'list'>\n",
      "6\n",
      "['Matthew', ' Mark', ' Luke', ' John', ' Mary', ' Elizabeth']\n"
     ]
    }
   ],
   "source": [
    "students = \"Matthew, Mark, Luke, John, Mary, Elizabeth\"\n",
    "print(type(students))\n",
    "print(len(students))\n",
    "\n",
    "A = students.split(',')\n",
    "print(type(A))\n",
    "print(len(A))\n",
    "\n",
    "print(A)"
   ]
  },
  {
   "cell_type": "markdown",
   "metadata": {},
   "source": [
    "Some classes have their own built-in operators, e.g., “>” (greater than) for numeric types.  Another powerful one is “in”, which is typically used with class “range”.\n",
    "\n",
    "In the previous sections we learned about different types in python, e.g., int, list, etc.  There are actually quite a few more.  Here we simply present these, and if interested details can be found elsewhere.\n",
    "\n",
    "<ol>\n",
    "  <li> Numeric: int, float, complex\n",
    "  <ol>\n",
    "    <li> Example method “hex”):\n",
    "        \n",
    "        A = 12.0\n",
    "        \n",
    "        A.hex()\n",
    "        \n",
    "        print(A)\n",
    "        \n",
    "        ‘0x1.8000000000000p+3\n",
    "        \n",
    "        B = 12.0\n",
    "        \n",
    "        C = float.hex(B)\n",
    "        \n",
    "        print(C)\n",
    "        \n",
    "        ‘0x1.8000000000000p+3\n",
    "  </ol>\n",
    "  <li>Sequence: list, tuple, range\n",
    "  <ol>\n",
    "    <li> Example method “sort” (note, sorts “in place”):\n",
    "        \n",
    "        A = [10, 0, -1, 4, 2, 12, -20, 15]\n",
    "        \n",
    "        A.sort()\n",
    "        \n",
    "        print(A)\n",
    "        \n",
    "        [-20, -1, 0, 2, 4, 10, 12, 15]  \n",
    "        \n",
    "   <li> Example method “sorted” (note, sorts “in place”):\n",
    "        \n",
    "        A = [10, 0, -1, 4, 2, 12, -20, 15]\n",
    "        \n",
    "        B = sorted(A)\n",
    "        \n",
    "        print(B)\n",
    "        \n",
    "        [-20, -1, 0, 2, 4, 10, 12, 15]\n",
    "  </ol>\n",
    "  <li> Text sequence: str\n",
    "  <ol>\n",
    "    <li> Example method “capitalize”:\n",
    "        \n",
    "        A = ‘this is a test’\n",
    "        \n",
    "        B = str.capitalize(A)\n",
    "        \n",
    "        print(B)\n",
    "        \n",
    "        ‘This is a test’\n",
    "  </ol>\n",
    "  <li> Mapping: dict\n",
    "  <li> Set: set, frozenset\n",
    "  <li> Binary Sequence: bytes, bytearray, memoryview\n",
    "  <li> Other: modules, classes, functions, methods\n",
    "</ol>"
   ]
  },
  {
   "cell_type": "markdown",
   "metadata": {},
   "source": [
    "## Functions and commands\n",
    "As a quick example, we define a variable X to be a list of numbers:"
   ]
  },
  {
   "cell_type": "code",
   "execution_count": 22,
   "metadata": {},
   "outputs": [],
   "source": [
    "X = [ -10, 5, 1, 2, 7, 4, 6]"
   ]
  },
  {
   "cell_type": "markdown",
   "metadata": {},
   "source": [
    "Remember that all variables are objects, so we can list the attributes of X using X or dir(X). This gives things like “append”, “count”, “extent”, etc.:"
   ]
  },
  {
   "cell_type": "code",
   "execution_count": 23,
   "metadata": {},
   "outputs": [
    {
     "data": {
      "text/plain": [
       "['__add__',\n",
       " '__class__',\n",
       " '__contains__',\n",
       " '__delattr__',\n",
       " '__delitem__',\n",
       " '__dir__',\n",
       " '__doc__',\n",
       " '__eq__',\n",
       " '__format__',\n",
       " '__ge__',\n",
       " '__getattribute__',\n",
       " '__getitem__',\n",
       " '__gt__',\n",
       " '__hash__',\n",
       " '__iadd__',\n",
       " '__imul__',\n",
       " '__init__',\n",
       " '__init_subclass__',\n",
       " '__iter__',\n",
       " '__le__',\n",
       " '__len__',\n",
       " '__lt__',\n",
       " '__mul__',\n",
       " '__ne__',\n",
       " '__new__',\n",
       " '__reduce__',\n",
       " '__reduce_ex__',\n",
       " '__repr__',\n",
       " '__reversed__',\n",
       " '__rmul__',\n",
       " '__setattr__',\n",
       " '__setitem__',\n",
       " '__sizeof__',\n",
       " '__str__',\n",
       " '__subclasshook__',\n",
       " 'append',\n",
       " 'clear',\n",
       " 'copy',\n",
       " 'count',\n",
       " 'extend',\n",
       " 'index',\n",
       " 'insert',\n",
       " 'pop',\n",
       " 'remove',\n",
       " 'reverse',\n",
       " 'sort']"
      ]
     },
     "execution_count": 23,
     "metadata": {},
     "output_type": "execute_result"
    }
   ],
   "source": [
    "dir(X)"
   ]
  },
  {
   "cell_type": "markdown",
   "metadata": {},
   "source": [
    "To then take advantage of one of these, we use the “.” and method name, e.g.:"
   ]
  },
  {
   "cell_type": "code",
   "execution_count": 24,
   "metadata": {},
   "outputs": [
    {
     "name": "stdout",
     "output_type": "stream",
     "text": [
      "[-10, 1, 2, 4, 5, 6, 7]\n"
     ]
    }
   ],
   "source": [
    "X.sort()\n",
    "print(X)"
   ]
  },
  {
   "cell_type": "markdown",
   "metadata": {},
   "source": [
    "Here we have redefined X to have this new order (we could have reassigned it, e.g., Y = X.sort()"
   ]
  },
  {
   "cell_type": "code",
   "execution_count": 25,
   "metadata": {},
   "outputs": [
    {
     "name": "stdout",
     "output_type": "stream",
     "text": [
      "[-10, 1, 2, 4, 5, 6, 7]\n",
      "None\n"
     ]
    }
   ],
   "source": [
    "X = [-10, 5, 1, 2, 7, 4, 6]\n",
    "Y = X.sort()\n",
    "print(X)\n",
    "print(Y)"
   ]
  },
  {
   "cell_type": "markdown",
   "metadata": {},
   "source": [
    "Wait, what?  Looks like X.sort() will first reorder X.  Further, the output is not a list.  How to change this?\n",
    "\n",
    "Attributes can be distinguished from methods using “callable” (as methods are callable functions).\n",
    "\n",
    "Python scripts, typically ending in .py, are called modules. Modules can either be run interactively, e.g., start python and enter the script name, or can be imported by or within other scripts. Similarly, groups of scripts bundled together are termed a “package”. Like modules, packages are imported into python when needed.\n",
    "\n",
    "There are, however, a number of internal functions and modules that come with python (and thus don’t need to be imported). Built-in functions include things like abs (absolute value), print, float, etc. For these, the command can simply be used without importing anything.  (See previous lecture)\n",
    "\n",
    "The process of loading external packages or modules can be done in many different ways. First, the entire package can be loaded. The modules within the package are then accessed using the package name as a prefix and the module name as a suffix. For example, let's say there is a module called \"sample_module\" with a module called \"dothis\":\n",
    "\n",
    "     import sample_module \n",
    "     x = sample_module.dothis\n",
    "     \n",
    "will bind the name “sample_module” to the object that is the “sample_module”. This does not give you access to any of the names inside the module itself, thus the need for the prefix. Alternately one could load all the names, e.g.,\n",
    "\n",
    "     from sample_module import *\n",
    "     x = dothis\n",
    "     \n",
    "This is usually not advisable since it may overwrite existing variable names.  Specific ones may be access through this same syntax however.  For example, to get the variable pi from the module numpy, one could import and access as numpy.pi.  Alternately, the function can be directly loaded from the module using the additional qualifier “from” like the above:\n",
    "\n",
    "    from sample_module import dothis\n",
    "    x = dothis\n",
    "    \n",
    "The module may also be assigned a shorthand (alias) name to make things a little easier. This shorthand name is specified using “as” and is then used in place of the full name:"
   ]
  },
  {
   "cell_type": "code",
   "execution_count": 26,
   "metadata": {},
   "outputs": [
    {
     "name": "stdout",
     "output_type": "stream",
     "text": [
      "1.2246467991473532e-16\n"
     ]
    }
   ],
   "source": [
    "import numpy as np\n",
    "x = np.sin(np.pi)\n",
    "print(x)"
   ]
  },
  {
   "cell_type": "markdown",
   "metadata": {},
   "source": [
    "To summarize with an example, here are four different ways of accessing the plotting function (plot) from the matplotlib package, which is in the pyplot set of routines (subpackage):\n",
    "<or>\n",
    "  <li> import entire package\n",
    "      \n",
    "            import matplotlib\n",
    "            matplotlib.pyplot.plot(x,y)\n",
    "\n",
    "  <li> import single subpackage\n",
    "\n",
    "            from matplotlib import pyplot\n",
    "            pyplot.plot(x,y)\n",
    "\n",
    "  <li> import subpackage as alias\n",
    "\n",
    "            from matplotlib import pyplot as plt\n",
    "            plt.plot(x,y)\n",
    "\n",
    "            from matplotlib.pyplot import plot as plt\n",
    "            plt(x,y)\n",
    "</or>\n",
    "\n",
    "Some of the more useful modules that we will use include sys that has system-level functions like exit, matplotlib, numpy and scipy that allow for matlab like functions, pandas for reading data from files, and a few more.  To find out what is available in a particular module, first import it then use dir.  For example, \n",
    "\n",
    "Finally, it is possible to import local python scripts.  For example, if you have your own utility in a python script called “my_sort.py”, you can import it as\n",
    "\n",
    "import my_sort\n",
    "\n",
    "Or, if it is in a different directory, use period (.) instead of slash (/) to demarcate directories.  For example, if you keep your scripts in a subdirectory called “my_libs” and then another subdirectory called “system”, you can import as\n",
    "\n",
    "import my_libs.system.my_sort\n",
    "\n",
    "Note that this only works on paths under the current working directory.  A better way would be to update the path within the main script (e.g., using importlib.lib)."
   ]
  },
  {
   "cell_type": "code",
   "execution_count": null,
   "metadata": {},
   "outputs": [],
   "source": []
  }
 ],
 "metadata": {
  "kernelspec": {
   "display_name": "Python 3",
   "language": "python",
   "name": "python3"
  },
  "language_info": {
   "codemirror_mode": {
    "name": "ipython",
    "version": 3
   },
   "file_extension": ".py",
   "mimetype": "text/x-python",
   "name": "python",
   "nbconvert_exporter": "python",
   "pygments_lexer": "ipython3",
   "version": "3.8.3"
  }
 },
 "nbformat": 4,
 "nbformat_minor": 4
}
